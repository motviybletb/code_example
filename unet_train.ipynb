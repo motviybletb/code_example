{
 "cells": [
  {
   "cell_type": "markdown",
   "metadata": {},
   "source": [
    "# Import needed libraries"
   ]
  },
  {
   "cell_type": "code",
   "execution_count": null,
   "metadata": {
    "execution": {
     "iopub.execute_input": "2023-08-17T20:23:24.127002Z",
     "iopub.status.busy": "2023-08-17T20:23:24.126635Z",
     "iopub.status.idle": "2023-08-17T20:23:28.094197Z",
     "shell.execute_reply": "2023-08-17T20:23:28.093200Z",
     "shell.execute_reply.started": "2023-08-17T20:23:24.126971Z"
    }
   },
   "outputs": [],
   "source": [
    "import os\n",
    "import cv2\n",
    "import time\n",
    "import random\n",
    "import numpy as np\n",
    "from glob import glob\n",
    "from tqdm import tqdm\n",
    "from operator import add\n",
    "\n",
    "import torch\n",
    "import torch.nn as nn\n",
    "import torch.nn.functional as F\n",
    "from torch.utils.data import Dataset, DataLoader\n",
    "from sklearn.metrics import accuracy_score, f1_score, jaccard_score, precision_score, recall_score"
   ]
  },
  {
   "cell_type": "code",
   "execution_count": null,
   "metadata": {
    "execution": {
     "iopub.execute_input": "2023-08-17T20:23:35.113221Z",
     "iopub.status.busy": "2023-08-17T20:23:35.112667Z",
     "iopub.status.idle": "2023-08-17T20:23:35.121952Z",
     "shell.execute_reply": "2023-08-17T20:23:35.120962Z",
     "shell.execute_reply.started": "2023-08-17T20:23:35.113189Z"
    }
   },
   "outputs": [],
   "source": [
    "class DriveDataset(Dataset):\n",
    "    def __init__(self, images_path, masks_path):\n",
    "\n",
    "        self.images_path = images_path\n",
    "        self.masks_path = masks_path\n",
    "        self.n_samples = len(images_path)\n",
    "\n",
    "    def __getitem__(self, index):\n",
    "        \"\"\" Reading image \"\"\"\n",
    "        image = cv2.imread(self.images_path[index], cv2.IMREAD_COLOR)\n",
    "        image = image/255.0\n",
    "        image = np.transpose(image, (2, 0, 1))\n",
    "        image = image.astype(np.float32)\n",
    "        image = torch.from_numpy(image)\n",
    "\n",
    "        \"\"\" Reading mask \"\"\"\n",
    "        mask = cv2.imread(self.masks_path[index], cv2.IMREAD_GRAYSCALE)\n",
    "        mask = mask/255.0\n",
    "        mask = np.expand_dims(mask, axis=0)\n",
    "        mask = mask.astype(np.float32)\n",
    "        mask = torch.from_numpy(mask)\n",
    "\n",
    "        return image, mask\n",
    "\n",
    "    def __len__(self):\n",
    "        return self.n_samples"
   ]
  },
  {
   "cell_type": "code",
   "execution_count": null,
   "metadata": {
    "execution": {
     "iopub.execute_input": "2023-08-17T20:23:35.955258Z",
     "iopub.status.busy": "2023-08-17T20:23:35.954887Z",
     "iopub.status.idle": "2023-08-17T20:23:35.963198Z",
     "shell.execute_reply": "2023-08-17T20:23:35.961944Z",
     "shell.execute_reply.started": "2023-08-17T20:23:35.955227Z"
    }
   },
   "outputs": [],
   "source": [
    "# Build Conv_layer\n",
    "class conv_block(nn.Module):\n",
    "    def __init__(self, in_c, out_c):\n",
    "        super().__init__()\n",
    "\n",
    "        self.conv1 = nn.Conv2d(in_c, out_c, kernel_size=3, padding=1)\n",
    "        self.bn1 = nn.BatchNorm2d(out_c)\n",
    "\n",
    "        self.conv2 = nn.Conv2d(out_c, out_c, kernel_size=3, padding=1)\n",
    "        self.bn2 = nn.BatchNorm2d(out_c)\n",
    "\n",
    "        self.relu = nn.ReLU()\n",
    "\n",
    "    def forward(self, inputs):\n",
    "        x = self.conv1(inputs)\n",
    "        x = self.bn1(x)\n",
    "        x = self.relu(x)\n",
    "\n",
    "        x = self.conv2(x)\n",
    "        x = self.bn2(x)\n",
    "        x = self.relu(x)\n",
    "\n",
    "        return x"
   ]
  },
  {
   "cell_type": "code",
   "execution_count": null,
   "metadata": {
    "execution": {
     "iopub.execute_input": "2023-08-17T20:23:36.202060Z",
     "iopub.status.busy": "2023-08-17T20:23:36.201228Z",
     "iopub.status.idle": "2023-08-17T20:23:36.208401Z",
     "shell.execute_reply": "2023-08-17T20:23:36.207253Z",
     "shell.execute_reply.started": "2023-08-17T20:23:36.202024Z"
    }
   },
   "outputs": [],
   "source": [
    "# Build Encoder section\n",
    "class encoder_block(nn.Module):\n",
    "    def __init__(self, in_c, out_c):\n",
    "        super().__init__()\n",
    "\n",
    "        self.conv = conv_block(in_c, out_c)\n",
    "        self.pool = nn.MaxPool2d((2, 2))\n",
    "\n",
    "    def forward(self, inputs):\n",
    "        x = self.conv(inputs)\n",
    "        p = self.pool(x)\n",
    "\n",
    "        return x, p"
   ]
  },
  {
   "cell_type": "code",
   "execution_count": null,
   "metadata": {
    "execution": {
     "iopub.execute_input": "2023-08-17T20:23:36.440504Z",
     "iopub.status.busy": "2023-08-17T20:23:36.440124Z",
     "iopub.status.idle": "2023-08-17T20:23:36.447454Z",
     "shell.execute_reply": "2023-08-17T20:23:36.446433Z",
     "shell.execute_reply.started": "2023-08-17T20:23:36.440472Z"
    }
   },
   "outputs": [],
   "source": [
    "# Build Decoder section\n",
    "class decoder_block(nn.Module):\n",
    "    def __init__(self, in_c, out_c):\n",
    "        super().__init__()\n",
    "\n",
    "        self.up = nn.ConvTranspose2d(in_c, out_c, kernel_size=2, stride=2, padding=0)\n",
    "        self.conv = conv_block(out_c+out_c, out_c)\n",
    "\n",
    "    def forward(self, inputs, skip):\n",
    "        x = self.up(inputs)\n",
    "        x = torch.cat([x, skip], axis=1)\n",
    "        x = self.conv(x)\n",
    "        return x"
   ]
  },
  {
   "cell_type": "code",
   "execution_count": null,
   "metadata": {
    "execution": {
     "iopub.execute_input": "2023-08-17T20:23:36.693489Z",
     "iopub.status.busy": "2023-08-17T20:23:36.692829Z",
     "iopub.status.idle": "2023-08-17T20:23:36.703831Z",
     "shell.execute_reply": "2023-08-17T20:23:36.702526Z",
     "shell.execute_reply.started": "2023-08-17T20:23:36.693456Z"
    }
   },
   "outputs": [],
   "source": [
    "# Build Unet architecture\n",
    "class build_unet(nn.Module):\n",
    "    def __init__(self):\n",
    "        super().__init__()\n",
    "\n",
    "        # Encoder\n",
    "        self.e1 = encoder_block(3, 64)\n",
    "        self.e2 = encoder_block(64, 128)\n",
    "        self.e3 = encoder_block(128, 256)\n",
    "        self.e4 = encoder_block(256, 512)\n",
    "\n",
    "        # Bottleneck\n",
    "        self.b = conv_block(512, 1024)\n",
    "\n",
    "        # Decoder\n",
    "        self.d1 = decoder_block(1024, 512)\n",
    "        self.d2 = decoder_block(512, 256)\n",
    "        self.d3 = decoder_block(256, 128)\n",
    "        self.d4 = decoder_block(128, 64)\n",
    "\n",
    "        # Classifier\n",
    "        self.outputs = nn.Conv2d(64, 1, kernel_size=1, padding=0)\n",
    "        \n",
    "    def forward(self, inputs):\n",
    "        # Encoder\n",
    "        s1, p1 = self.e1(inputs)\n",
    "        s2, p2 = self.e2(p1)\n",
    "        s3, p3 = self.e3(p2)\n",
    "        s4, p4 = self.e4(p3)\n",
    "\n",
    "        # Bottleneck\n",
    "        b = self.b(p4)\n",
    "\n",
    "        # Decoder\n",
    "        d1 = self.d1(b, s4)\n",
    "        d2 = self.d2(d1, s3)\n",
    "        d3 = self.d3(d2, s2)\n",
    "        d4 = self.d4(d3, s1)\n",
    "\n",
    "        outputs = self.outputs(d4)\n",
    "\n",
    "        return outputs"
   ]
  },
  {
   "cell_type": "code",
   "execution_count": null,
   "metadata": {
    "execution": {
     "iopub.execute_input": "2023-08-17T20:23:37.167727Z",
     "iopub.status.busy": "2023-08-17T20:23:37.166889Z",
     "iopub.status.idle": "2023-08-17T20:23:37.177255Z",
     "shell.execute_reply": "2023-08-17T20:23:37.176212Z",
     "shell.execute_reply.started": "2023-08-17T20:23:37.167692Z"
    }
   },
   "outputs": [],
   "source": [
    "# Dice Coefficient\n",
    "class DiceLoss(nn.Module):\n",
    "    def __init__(self, weight=None, size_average=True):\n",
    "        super(DiceLoss, self).__init__()\n",
    "\n",
    "    def forward(self, inputs, targets, smooth=1):\n",
    "\n",
    "        #comment out if your model contains a sigmoid or equivalent activation layer\n",
    "        inputs = torch.sigmoid(inputs)\n",
    "\n",
    "        #flatten label and prediction tensors\n",
    "        inputs = inputs.view(-1)\n",
    "        targets = targets.view(-1)\n",
    "\n",
    "        intersection = (inputs * targets).sum()\n",
    "        dice = (2.*intersection + smooth)/(inputs.sum() + targets.sum() + smooth)\n",
    "\n",
    "        return 1 - dice"
   ]
  },
  {
   "cell_type": "code",
   "execution_count": null,
   "metadata": {
    "execution": {
     "iopub.execute_input": "2023-08-17T20:23:37.403623Z",
     "iopub.status.busy": "2023-08-17T20:23:37.402926Z",
     "iopub.status.idle": "2023-08-17T20:23:37.410977Z",
     "shell.execute_reply": "2023-08-17T20:23:37.410008Z",
     "shell.execute_reply.started": "2023-08-17T20:23:37.403584Z"
    }
   },
   "outputs": [],
   "source": [
    "# Dice Binary Cross Entropy Coefficient\n",
    "class DiceBCELoss(nn.Module):\n",
    "    def __init__(self, weight=None, size_average=True):\n",
    "        super(DiceBCELoss, self).__init__()\n",
    "\n",
    "    def forward(self, inputs, targets, smooth=1):\n",
    "\n",
    "        #comment out if your model contains a sigmoid or equivalent activation layer\n",
    "        inputs = torch.sigmoid(inputs)\n",
    "\n",
    "        #flatten label and prediction tensors\n",
    "        inputs = inputs.view(-1)\n",
    "        targets = targets.view(-1)\n",
    "\n",
    "        intersection = (inputs * targets).sum()\n",
    "        dice_loss = 1 - (2.*intersection + smooth)/(inputs.sum() + targets.sum() + smooth)\n",
    "        BCE = F.binary_cross_entropy(inputs, targets, reduction='mean')\n",
    "        Dice_BCE = BCE + dice_loss\n",
    "\n",
    "        return Dice_BCE"
   ]
  },
  {
   "cell_type": "code",
   "execution_count": null,
   "metadata": {
    "execution": {
     "iopub.execute_input": "2023-08-17T20:23:37.915646Z",
     "iopub.status.busy": "2023-08-17T20:23:37.914956Z",
     "iopub.status.idle": "2023-08-17T20:23:37.921757Z",
     "shell.execute_reply": "2023-08-17T20:23:37.920840Z",
     "shell.execute_reply.started": "2023-08-17T20:23:37.915595Z"
    }
   },
   "outputs": [],
   "source": [
    "def seeding(seed):\n",
    "    random.seed(seed)\n",
    "    os.environ[\"PYTHONHASHSEED\"] = str(seed)\n",
    "    np.random.seed(seed)\n",
    "    torch.manual_seed(seed)\n",
    "    torch.cuda.manual_seed(seed)\n",
    "    torch.backends.cudnn.deterministic = True"
   ]
  },
  {
   "cell_type": "code",
   "execution_count": null,
   "metadata": {
    "execution": {
     "iopub.execute_input": "2023-08-17T20:23:38.627118Z",
     "iopub.status.busy": "2023-08-17T20:23:38.626756Z",
     "iopub.status.idle": "2023-08-17T20:23:38.632921Z",
     "shell.execute_reply": "2023-08-17T20:23:38.631891Z",
     "shell.execute_reply.started": "2023-08-17T20:23:38.627089Z"
    }
   },
   "outputs": [],
   "source": [
    "def create_dir(path):\n",
    "    if not os.path.exists(path):\n",
    "        os.makedirs(path)"
   ]
  },
  {
   "cell_type": "code",
   "execution_count": null,
   "metadata": {
    "execution": {
     "iopub.execute_input": "2023-08-17T20:23:39.241080Z",
     "iopub.status.busy": "2023-08-17T20:23:39.240001Z",
     "iopub.status.idle": "2023-08-17T20:23:39.251893Z",
     "shell.execute_reply": "2023-08-17T20:23:39.250910Z",
     "shell.execute_reply.started": "2023-08-17T20:23:39.241044Z"
    }
   },
   "outputs": [],
   "source": [
    "def epoch_time(start_time, end_time):\n",
    "    elapsed_time = end_time - start_time\n",
    "    elapsed_mins = int(elapsed_time / 60)\n",
    "    elapsed_secs = int(elapsed_time - (elapsed_mins * 60))\n",
    "    return elapsed_mins, elapsed_secs"
   ]
  },
  {
   "cell_type": "code",
   "execution_count": null,
   "metadata": {
    "execution": {
     "iopub.execute_input": "2023-08-17T20:23:39.931675Z",
     "iopub.status.busy": "2023-08-17T20:23:39.931283Z",
     "iopub.status.idle": "2023-08-17T20:23:39.938241Z",
     "shell.execute_reply": "2023-08-17T20:23:39.937314Z",
     "shell.execute_reply.started": "2023-08-17T20:23:39.931644Z"
    }
   },
   "outputs": [],
   "source": [
    "def train(model, loader, optimizer, loss_fn, device):\n",
    "    epoch_loss = 0.0\n",
    "\n",
    "    model.train()\n",
    "    for x, y in loader:\n",
    "        x = x.to(device, dtype=torch.float32)\n",
    "        y = y.to(device, dtype=torch.float32)\n",
    "\n",
    "        optimizer.zero_grad()\n",
    "        y_pred = model(x)\n",
    "        loss = loss_fn(y_pred, y)\n",
    "        loss.backward()\n",
    "        optimizer.step()\n",
    "        epoch_loss += loss.item()\n",
    "\n",
    "    epoch_loss = epoch_loss/len(loader)\n",
    "    return epoch_loss"
   ]
  },
  {
   "cell_type": "code",
   "execution_count": null,
   "metadata": {
    "execution": {
     "iopub.execute_input": "2023-08-17T20:23:40.650782Z",
     "iopub.status.busy": "2023-08-17T20:23:40.649913Z",
     "iopub.status.idle": "2023-08-17T20:23:40.657649Z",
     "shell.execute_reply": "2023-08-17T20:23:40.656587Z",
     "shell.execute_reply.started": "2023-08-17T20:23:40.650746Z"
    }
   },
   "outputs": [],
   "source": [
    "def evaluate(model, loader, loss_fn, device):\n",
    "    epoch_loss = 0.0\n",
    "\n",
    "    model.eval()\n",
    "    with torch.no_grad():\n",
    "        for x, y in loader:\n",
    "            x = x.to(device, dtype=torch.float32)\n",
    "            y = y.to(device, dtype=torch.float32)\n",
    "\n",
    "            y_pred = model(x)\n",
    "            loss = loss_fn(y_pred, y)\n",
    "            epoch_loss += loss.item()\n",
    "\n",
    "        epoch_loss = epoch_loss / len(loader)\n",
    "    return epoch_loss"
   ]
  },
  {
   "cell_type": "code",
   "execution_count": null,
   "metadata": {
    "execution": {
     "iopub.execute_input": "2023-08-17T20:23:41.986195Z",
     "iopub.status.busy": "2023-08-17T20:23:41.985496Z",
     "iopub.status.idle": "2023-08-17T20:23:42.047295Z",
     "shell.execute_reply": "2023-08-17T20:23:42.046293Z",
     "shell.execute_reply.started": "2023-08-17T20:23:41.986161Z"
    }
   },
   "outputs": [],
   "source": [
    "# Seeding\n",
    "seeding(42)\n",
    "\n",
    "# Create files directory to store checkpoint file\n",
    "create_dir(\"files\")\n",
    "\n",
    "#  Get data paths\n",
    "train_x = sorted(glob(\"C:\\\\Users\\\\pudge\\\\Documents\\\\GitHub\\\\cell-segmentation\\\\retina_test\\\\train_image\\\\*\"))\n",
    "train_y = sorted(glob(\"C:\\\\Users\\\\pudge\\\\Documents\\\\GitHub\\\\cell-segmentation\\\\retina_test\\\\train_mask\\\\*\"))\n",
    "\n",
    "valid_x = sorted(glob(\"C:\\\\Users\\\\pudge\\\\Documents\\\\GitHub\\\\cell-segmentation\\\\retina_test\\\\val_image\\\\*\"))\n",
    "valid_y = sorted(glob(\"C:\\\\Users\\\\pudge\\\\Documents\\\\GitHub\\\\cell-segmentation\\\\retina_test\\\\val_mask\\\\*\"))\n",
    "\n",
    "data_str = f\"Dataset Size:\\nTrain: {len(train_x)} - Valid: {len(valid_x)}\\n\"\n",
    "print(data_str)"
   ]
  },
  {
   "cell_type": "code",
   "execution_count": null,
   "metadata": {
    "execution": {
     "iopub.execute_input": "2023-08-17T20:23:43.036307Z",
     "iopub.status.busy": "2023-08-17T20:23:43.035747Z",
     "iopub.status.idle": "2023-08-17T20:23:43.041429Z",
     "shell.execute_reply": "2023-08-17T20:23:43.040402Z",
     "shell.execute_reply.started": "2023-08-17T20:23:43.036271Z"
    }
   },
   "outputs": [],
   "source": [
    "H = 416\n",
    "W = 416\n",
    "size = (H, W)\n",
    "batch_size = 1\n",
    "lr = 1e-4\n",
    "checkpoint_path = \"files/checkpoint.pth\""
   ]
  },
  {
   "cell_type": "code",
   "execution_count": null,
   "metadata": {
    "execution": {
     "iopub.execute_input": "2023-08-17T20:23:44.611160Z",
     "iopub.status.busy": "2023-08-17T20:23:44.610787Z",
     "iopub.status.idle": "2023-08-17T20:23:44.617852Z",
     "shell.execute_reply": "2023-08-17T20:23:44.616597Z",
     "shell.execute_reply.started": "2023-08-17T20:23:44.611128Z"
    }
   },
   "outputs": [],
   "source": [
    "train_dataset = DriveDataset(train_x, train_y)\n",
    "valid_dataset = DriveDataset(valid_x, valid_y)\n",
    "\n",
    "train_loader = DataLoader(\n",
    "    dataset=train_dataset,\n",
    "    batch_size=batch_size,\n",
    "    shuffle=True,\n",
    ")\n",
    "\n",
    "valid_loader = DataLoader(\n",
    "    dataset=valid_dataset,\n",
    "    batch_size=batch_size,\n",
    "    shuffle=False,\n",
    ")"
   ]
  },
  {
   "cell_type": "code",
   "execution_count": null,
   "metadata": {
    "execution": {
     "iopub.execute_input": "2023-08-17T20:30:08.846084Z",
     "iopub.status.busy": "2023-08-17T20:30:08.845484Z",
     "iopub.status.idle": "2023-08-17T20:30:12.362507Z",
     "shell.execute_reply": "2023-08-17T20:30:12.361508Z",
     "shell.execute_reply.started": "2023-08-17T20:30:08.846049Z"
    }
   },
   "outputs": [],
   "source": [
    "# Set cuda device\n",
    "device = torch.device('cuda' if torch.cuda.is_available() else 'cpu')\n",
    "\n",
    "# Build model\n",
    "model = build_unet()\n",
    "model = model.to(device)\n",
    "\n",
    "# Set Optimizer and Loss\n",
    "optimizer = torch.optim.Adam(model.parameters(), lr=lr)\n",
    "scheduler = torch.optim.lr_scheduler.ReduceLROnPlateau(optimizer, 'min', patience=5, verbose=True)\n",
    "loss_fn = DiceBCELoss()"
   ]
  },
  {
   "cell_type": "code",
   "execution_count": null,
   "metadata": {
    "_kg_hide-output": true,
    "execution": {
     "iopub.execute_input": "2023-08-17T20:35:19.330604Z",
     "iopub.status.busy": "2023-08-17T20:35:19.329930Z",
     "iopub.status.idle": "2023-08-17T20:45:56.800005Z",
     "shell.execute_reply": "2023-08-17T20:45:56.797920Z",
     "shell.execute_reply.started": "2023-08-17T20:35:19.330562Z"
    },
    "jupyter": {
     "outputs_hidden": true
    }
   },
   "outputs": [],
   "source": [
    "best_valid_loss = float(\"inf\")\n",
    "num_epochs = 50\n",
    "\n",
    "for epoch in range(num_epochs):\n",
    "    start_time = time.time()\n",
    "\n",
    "    train_loss = train(model, train_loader, optimizer, loss_fn, device)\n",
    "    valid_loss = evaluate(model, valid_loader, loss_fn, device)\n",
    "\n",
    "    # Saving the model\n",
    "    if valid_loss < best_valid_loss:\n",
    "        print(f\"Valid loss improved from {best_valid_loss:2.4f} to {valid_loss:2.4f}. Saving checkpoint: {checkpoint_path}\")\n",
    "\n",
    "        best_valid_loss = valid_loss\n",
    "        torch.save(model.state_dict(), checkpoint_path)\n",
    "\n",
    "    end_time = time.time()\n",
    "    epoch_mins, epoch_secs = epoch_time(start_time, end_time)\n",
    "\n",
    "    data_str = f'Epoch: {epoch+1:02} | Epoch Time: {epoch_mins}m {epoch_secs}s\\n'\n",
    "    data_str += f'\\tTrain Loss: {train_loss:.3f}\\n'\n",
    "    data_str += f'\\tVal. Loss: {valid_loss:.3f}\\n'\n",
    "    print(data_str)"
   ]
  },
  {
   "cell_type": "code",
   "execution_count": null,
   "metadata": {
    "execution": {
     "iopub.execute_input": "2023-08-17T20:46:51.830795Z",
     "iopub.status.busy": "2023-08-17T20:46:51.830348Z",
     "iopub.status.idle": "2023-08-17T20:46:51.841658Z",
     "shell.execute_reply": "2023-08-17T20:46:51.840621Z",
     "shell.execute_reply.started": "2023-08-17T20:46:51.830755Z"
    }
   },
   "outputs": [],
   "source": [
    "def calculate_metrics(y_true, y_pred):\n",
    "    # Ground truth\n",
    "    y_true = y_true.cpu().numpy()\n",
    "    y_true = y_true > 0.5\n",
    "    y_true = y_true.astype(np.uint8)\n",
    "    y_true = y_true.reshape(-1)\n",
    "\n",
    "    # Prediction\n",
    "    y_pred = y_pred.cpu().numpy()\n",
    "    y_pred = y_pred > 0.5\n",
    "    y_pred = y_pred.astype(np.uint8)\n",
    "    y_pred = y_pred.reshape(-1)\n",
    "\n",
    "    score_jaccard = jaccard_score(y_true, y_pred)\n",
    "    score_f1 = f1_score(y_true, y_pred)\n",
    "    score_recall = recall_score(y_true, y_pred)\n",
    "    score_precision = precision_score(y_true, y_pred)\n",
    "    score_acc = accuracy_score(y_true, y_pred)\n",
    "\n",
    "    return [score_jaccard, score_f1, score_recall, score_precision, score_acc]"
   ]
  },
  {
   "cell_type": "code",
   "execution_count": null,
   "metadata": {
    "execution": {
     "iopub.execute_input": "2023-08-17T20:48:47.784513Z",
     "iopub.status.busy": "2023-08-17T20:48:47.783538Z",
     "iopub.status.idle": "2023-08-17T20:48:47.790136Z",
     "shell.execute_reply": "2023-08-17T20:48:47.789154Z",
     "shell.execute_reply.started": "2023-08-17T20:48:47.784477Z"
    }
   },
   "outputs": [],
   "source": [
    "def mask_parse(mask):\n",
    "    mask = np.expand_dims(mask, axis=-1)    ## (512, 512, 1)\n",
    "    mask = np.concatenate([mask, mask, mask], axis=-1)  ## (512, 512, 3)\n",
    "    return mask"
   ]
  },
  {
   "cell_type": "code",
   "execution_count": null,
   "metadata": {
    "execution": {
     "iopub.execute_input": "2023-08-17T20:54:10.949191Z",
     "iopub.status.busy": "2023-08-17T20:54:10.948485Z",
     "iopub.status.idle": "2023-08-17T20:54:10.967978Z",
     "shell.execute_reply": "2023-08-17T20:54:10.966970Z",
     "shell.execute_reply.started": "2023-08-17T20:54:10.949158Z"
    }
   },
   "outputs": [],
   "source": [
    "#  Seeding\n",
    "seeding(42)\n",
    "\n",
    "# Folders\n",
    "create_dir(\"results\")\n",
    "\n",
    "# Load dataset\n",
    "test_x = sorted(glob(\"C:\\\\Users\\\\pudge\\\\Documents\\\\GitHub\\\\cell-segmentation\\\\retina_test\\\\val_image\\\\*\"))\n",
    "test_y = sorted(glob(\"C:\\\\Users\\\\pudge\\\\Documents\\\\GitHub\\\\cell-segmentation\\\\retina_test\\\\val_mask\\\\*\"))"
   ]
  },
  {
   "cell_type": "code",
   "execution_count": null,
   "metadata": {
    "_kg_hide-output": true,
    "execution": {
     "iopub.execute_input": "2023-08-17T20:54:30.334902Z",
     "iopub.status.busy": "2023-08-17T20:54:30.334492Z",
     "iopub.status.idle": "2023-08-17T20:54:30.701885Z",
     "shell.execute_reply": "2023-08-17T20:54:30.700733Z",
     "shell.execute_reply.started": "2023-08-17T20:54:30.334873Z"
    },
    "jupyter": {
     "outputs_hidden": true
    }
   },
   "outputs": [],
   "source": [
    "checkpoint_path = \"retina_unet.pth\"\n",
    "\n",
    "device = torch.device('cuda' if torch.cuda.is_available() else 'cpu')\n",
    "model = build_unet()\n",
    "model = model.to(device)\n",
    "model.load_state_dict(torch.load(checkpoint_path, map_location=device))\n",
    "model.eval()"
   ]
  },
  {
   "cell_type": "code",
   "execution_count": null,
   "metadata": {
    "execution": {
     "iopub.execute_input": "2023-08-17T20:54:34.886806Z",
     "iopub.status.busy": "2023-08-17T20:54:34.886025Z",
     "iopub.status.idle": "2023-08-17T20:54:42.008882Z",
     "shell.execute_reply": "2023-08-17T20:54:42.007899Z",
     "shell.execute_reply.started": "2023-08-17T20:54:34.886769Z"
    }
   },
   "outputs": [],
   "source": [
    "metrics_score = [0.0, 0.0, 0.0, 0.0, 0.0]\n",
    "time_taken = []\n",
    "\n",
    "for i, (x, y) in tqdm(enumerate(zip(test_x, test_y)), total=len(test_x)):\n",
    "    # Extract the name\n",
    "    name = x.split(\"/\")[-1].split(\".\")[0]\n",
    "\n",
    "    # Reading image\n",
    "    image = cv2.imread(x, cv2.IMREAD_COLOR) ## (512, 512, 3)\n",
    "    x = np.transpose(image, (2, 0, 1))      ## (3, 512, 512)\n",
    "    x = x/255.0\n",
    "    x = np.expand_dims(x, axis=0)           ## (1, 3, 512, 512)\n",
    "    x = x.astype(np.float32)\n",
    "    x = torch.from_numpy(x)\n",
    "    x = x.to(device)\n",
    "\n",
    "    # Reading mask\n",
    "    mask = cv2.imread(y, cv2.IMREAD_GRAYSCALE)  ## (512, 512)\n",
    "    y = np.expand_dims(mask, axis=0)            ## (1, 512, 512)\n",
    "    y = y / 255.0\n",
    "    y = np.expand_dims(y, axis=0)               ## (1, 1, 512, 512)\n",
    "    y = y.astype(np.float32)\n",
    "    y = torch.from_numpy(y)\n",
    "    y = y.to(device)\n",
    "\n",
    "    with torch.no_grad():\n",
    "        # Prediction and Calculating FPS\n",
    "        start_time = time.time()\n",
    "        pred_y = model(x)\n",
    "        pred_y = torch.sigmoid(pred_y)\n",
    "        total_time = time.time() - start_time\n",
    "        time_taken.append(total_time)\n",
    "\n",
    "\n",
    "        score = calculate_metrics(y, pred_y)\n",
    "        metrics_score = list(map(add, metrics_score, score))\n",
    "        pred_y = pred_y[0].cpu().numpy()        ## (1, 512, 512)\n",
    "        pred_y = np.squeeze(pred_y, axis=0)     ## (512, 512)\n",
    "        pred_y = pred_y > 0.5\n",
    "        pred_y = np.array(pred_y, dtype=np.uint8)\n",
    "\n",
    "    # Saving masks\n",
    "    ori_mask = mask_parse(mask)\n",
    "    pred_y = mask_parse(pred_y)\n",
    "    line = np.ones((size[1], 10, 3)) * 128\n",
    "\n",
    "    cat_images = np.concatenate(\n",
    "        [image, line, ori_mask, line, pred_y * 255], axis=1\n",
    "    )\n",
    "    cv2.imwrite(f\"results/{name}.png\", cat_images)"
   ]
  },
  {
   "cell_type": "code",
   "execution_count": null,
   "metadata": {
    "execution": {
     "iopub.execute_input": "2023-08-17T20:55:21.107046Z",
     "iopub.status.busy": "2023-08-17T20:55:21.106677Z",
     "iopub.status.idle": "2023-08-17T20:55:21.114473Z",
     "shell.execute_reply": "2023-08-17T20:55:21.113101Z",
     "shell.execute_reply.started": "2023-08-17T20:55:21.107015Z"
    }
   },
   "outputs": [],
   "source": [
    "jaccard = metrics_score[0] / len(test_x)\n",
    "f1 = metrics_score[1] / len(test_x)\n",
    "recall = metrics_score[2] / len(test_x)\n",
    "precision = metrics_score[3] / len(test_x)\n",
    "acc = metrics_score[4] / len(test_x)\n",
    "print(f\"Jaccard: {jaccard:1.4f} - F1: {f1:1.4f} - Recall: {recall:1.4f} - Precision: {precision:1.4f} - Acc: {acc:1.4f}\")\n",
    "\n",
    "fps = 1 / np.mean(time_taken)\n",
    "print(\"FPS: \", fps)"
   ]
  },
  {
   "cell_type": "code",
   "execution_count": null,
   "metadata": {
    "execution": {
     "iopub.execute_input": "2023-08-17T20:59:43.279932Z",
     "iopub.status.busy": "2023-08-17T20:59:43.279522Z",
     "iopub.status.idle": "2023-08-17T20:59:43.727780Z",
     "shell.execute_reply": "2023-08-17T20:59:43.726875Z",
     "shell.execute_reply.started": "2023-08-17T20:59:43.279901Z"
    }
   },
   "outputs": [],
   "source": [
    "import matplotlib.pyplot as plt\n",
    "\n",
    "img = plt.imread('/kaggle/working/results/11.png')\n",
    "plt.figure(figsize=(15, 8))\n",
    "plt.imshow(img)\n",
    "plt.axis('off')\n",
    "\n",
    "plt.show()\n"
   ]
  }
 ],
 "metadata": {
  "kernelspec": {
   "display_name": "Python 3 (ipykernel)",
   "language": "python",
   "name": "python3"
  },
  "language_info": {
   "codemirror_mode": {
    "name": "ipython",
    "version": 3
   },
   "file_extension": ".py",
   "mimetype": "text/x-python",
   "name": "python",
   "nbconvert_exporter": "python",
   "pygments_lexer": "ipython3",
   "version": "3.11.5"
  }
 },
 "nbformat": 4,
 "nbformat_minor": 4
}
